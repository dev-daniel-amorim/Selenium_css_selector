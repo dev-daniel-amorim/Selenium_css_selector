{
 "cells": [
  {
   "cell_type": "code",
   "execution_count": 55,
   "metadata": {},
   "outputs": [],
   "source": [
    "# bibliotecas\n",
    "import pandas as pd\n",
    "import time\n",
    "from datetime import datetime\n",
    "import random\n",
    "import os\n",
    "import tkinter as tk\n",
    "import sys\n",
    "import pyautogui as py \n",
    "# Selenium e Wd\n",
    "from selenium import webdriver\n",
    "from selenium.webdriver.chrome.service import Service\n",
    "chrome_servico = Service(r'C:\\Users\\devda\\Desktop\\Web Scraping\\CONSULTA CPF\\chromedriver.exe')\n",
    "\n",
    "from selenium.webdriver.common.keys import Keys\n",
    "from selenium.webdriver.common.by import By\n",
    "import time\n",
    "import pandas as pd\n",
    "import win32com.client as win32\n",
    "import os\n",
    "import sys\n",
    "\n",
    "\n",
    "from selenium.webdriver.common.by import By\n",
    "from selenium.webdriver.support.ui import WebDriverWait\n",
    "from selenium.webdriver.support import expected_conditions as EC"
   ]
  },
  {
   "cell_type": "code",
   "execution_count": 56,
   "metadata": {},
   "outputs": [],
   "source": [
    "# variáveis\n",
    "pagina = \"https://sisregiii.saude.gov.br/cgi-bin/index#\"\n",
    "user = \"DANIEL_TISMS\"\n",
    "key = \"123456\"\n"
   ]
  },
  {
   "cell_type": "code",
   "execution_count": 67,
   "metadata": {},
   "outputs": [],
   "source": [
    "# Configurar as opções do Chrome\n",
    "chrome_options = webdriver.ChromeOptions()\n",
    "chrome_options.add_argument(\"--start-maximized\")\n",
    "# Para sair da janela anônima comente abaixo\n",
    "chrome_options.add_argument(\"--incognito\")"
   ]
  },
  {
   "cell_type": "code",
   "execution_count": 68,
   "metadata": {},
   "outputs": [],
   "source": [
    "# Criar uma instância do driver do Chrome com as opções configuradas\n",
    "driver = webdriver.Chrome(service=chrome_servico, options=chrome_options)\n",
    "driver.get(pagina)\n",
    "#time.sleep(10)"
   ]
  },
  {
   "cell_type": "markdown",
   "metadata": {},
   "source": [
    "### FAZ LOGIN"
   ]
  },
  {
   "cell_type": "code",
   "execution_count": 69,
   "metadata": {},
   "outputs": [],
   "source": [
    "# digita usuario\n",
    "driver.find_element(By.ID, \"usuario\").send_keys(user)\n",
    "time.sleep(2)\n",
    "# digita senha\n",
    "driver.find_element(By.ID, \"senha\").send_keys(key)\n",
    "time.sleep(2)\n",
    "\n",
    "# clica ok\n",
    "driver.find_element(By.CLASS_NAME, \"form-button\").click()\n",
    "time.sleep(2)"
   ]
  },
  {
   "cell_type": "markdown",
   "metadata": {},
   "source": []
  },
  {
   "cell_type": "code",
   "execution_count": 70,
   "metadata": {},
   "outputs": [],
   "source": [
    "no_procedimento = \"no_procedimento\"\n",
    "# clica no MENU AUTORIZAREXAMES -ULTRA\n",
    "driver.find_element(By.CLASS_NAME, \"sf-with-ul\").click()\n",
    "time.sleep(2)\n",
    "# clica no AMBULATORIAL\n",
    "driver.find_element(By.XPATH, \"/html/body/div/div/div[3]/ul/li[1]/ul/li[1]/a\").click()\n",
    "time.sleep(4)\n",
    "\n",
    "# # digita a descricao\n",
    "# elemento = nav.find_element(By.CSS_SELECTOR, '/html/body/form/center/table/tbody/tr[8]/td[2]/input[name=\"no_procedimento\"]')\n",
    "# time.sleep(2)\n",
    "# elemento.send_keys('EXAMES -ULTRA')\n",
    "\n",
    "py.click(x=913, y=546, clicks=1)\n",
    "time.sleep(2)\n",
    "py.write('EXAMES -ULTRA')\n",
    "time.sleep(3)\n",
    "\n",
    "\n",
    "py.click(x=930, y=699, clicks=1)\n",
    "\n",
    "# elemento = WebDriverWait(nav, 100).until(\n",
    "#     EC.presence_of_element_located((By.CSS_SELECTOR, 'html/body/form/center/table/tbody/tr[8]/td[2]/input[name=\"no_procedimento\"]'))\n",
    "# )\n",
    "# # Digite o texto no campo de entrada\n",
    "# elemento.send_keys('EXAMES - ULTRA')\n",
    "\n",
    "\n",
    "\n",
    "#/html/body/form/center/table/tbody/tr[8]/td[2]/input[name=\"no_procedimento\"]\n"
   ]
  },
  {
   "cell_type": "code",
   "execution_count": null,
   "metadata": {},
   "outputs": [],
   "source": [
    "# Troca para o iframe pelo seu id ou nome\n",
    "iframe = driver.find_element(By.ID, 'f_main')  # ou use By.NAME\n",
    "driver.switch_to.frame(iframe)\n",
    "\n",
    "# Agora procure pelo elemento dentro do iframe\n",
    "try:\n",
    "    elementos = WebDriverWait(driver, 10).until(\n",
    "        EC.presence_of_all_elements_located((By.CSS_SELECTOR, 'tr[onclick*=\"mostrar\"]'))\n",
    "    )\n",
    "    print(f\"Encontrados {len(elementos)} elementos\")\n",
    "except Exception as e:\n",
    "    print(f\"Erro ao encontrar o elemento: {e}\")\n",
    "\n",
    "# Se precisar voltar para o conteúdo principal da página\n",
    "#nav.switch_to.default_content()\n",
    "\n",
    "\n"
   ]
  },
  {
   "cell_type": "code",
   "execution_count": 71,
   "metadata": {},
   "outputs": [
    {
     "name": "stdout",
     "output_type": "stream",
     "text": [
      "Encontrados 20 elementos\n",
      "IVONE GOMES PESSOA\n",
      "MARIA DE NAZARE GOMES PESSOA\n",
      "JOSE RAIALISSON BALBINO CARNEIRO\n",
      "JOSEANE BALBINO DA SILVA\n",
      "EDINETE VIEIRA MIRANDA\n",
      "DALVA VIEIRA DE ANDRADE CARNEIRO\n",
      "DEYSEANE SANTANA DOS SANTOS\n",
      "JOZELIA SANTANA DOS SANTOS\n",
      "JOSE CANDIDO LEAL\n",
      "SEVERINA MARIA LEAL\n",
      "JOSEANE LEAL GALVAO\n",
      "MARIA DA LUZ DE OLIVEIRA LEAL\n",
      "MARIANA DO NASCIMENTO\n",
      "EVA BELARMINO DO NASCIMENTO\n",
      "RILDETE VICENTE FERREIRA\n",
      "IVONETE VICENTE FERREIRA\n",
      "JOELMA BENTO DA SILVA\n",
      "MARIA BENTO DOS SANTOS\n",
      "JOELMA BENTO DA SILVA\n",
      "MARIA BENTO DOS SANTOS\n",
      "FERNANDA HENRIQUES DA SILVA\n",
      "MARIA FRANCISCA DA SILVA\n",
      "FERNANDA HENRIQUES DA SILVA\n",
      "MARIA FRANCISCA DA SILVA\n",
      "LUCIENE DOS SANTOS CALISTO\n",
      "SEVERINA JUDITE DOS SANTOS CALISTO\n",
      "KAYO GUILHERME DA SILVA DE SOUZA\n",
      "PRISCILA ROBERTA GOMES DA SILVA\n",
      "PALOMA MARQUES DO NASCIMENTO\n",
      "MARIA EUNICE MARQUES DO NASCIMENTO\n",
      "MARIA APARECIDA DE LIMA FERREIRA\n",
      "MARIA DAS DORES DE LIMA FERREIRA\n",
      "AUDENIZA MARIA DE JESUS SILVA\n",
      "MARIA INACIA DE JESUS\n",
      "JOSEFA MIGUEL DO NASCIMENTO\n",
      "MARIA DAS NEVES DA SILVA\n",
      "PAULINO JOSE DE ALMEIDA NETO\n",
      "MARIA SOLEDADE DOS SANTOS\n",
      "ERYCLENIA RODRIGUES DE OLIVEIRA\n",
      "EVERALDO VIOEIRA DE OLIVEIRA\n",
      "Dados salvos em dados.xlsx\n"
     ]
    }
   ],
   "source": [
    "# Troca para o iframe pelo seu id ou nome\n",
    "iframe = WebDriverWait(driver, 10).until(\n",
    "    EC.presence_of_element_located((By.ID, 'f_main'))\n",
    ")\n",
    "driver.switch_to.frame(iframe)\n",
    "\n",
    "# Lista para armazenar os dados\n",
    "dados = []\n",
    "\n",
    "# Função para obter elementos de forma segura\n",
    "def obter_elementos():\n",
    "    return WebDriverWait(driver, 10).until(\n",
    "        EC.presence_of_all_elements_located((By.CSS_SELECTOR, 'tr[onclick*=\"mostrar\"]'))\n",
    "    )\n",
    "\n",
    "# Procura por todos os elementos dentro do iframe\n",
    "try:\n",
    "    elementos = obter_elementos()\n",
    "    print(f\"Encontrados {len(elementos)} elementos\")\n",
    "\n",
    "    # Itera sobre cada elemento\n",
    "    for i in range(len(elementos)):\n",
    "        try:\n",
    "            elementos = obter_elementos()  # Re-obtem os elementos\n",
    "            elemento = elementos[i]\n",
    "\n",
    "            # Clica no elemento\n",
    "            elemento.click()\n",
    "\n",
    "            # Realiza a tarefa X na nova página\n",
    "            WebDriverWait(driver, 10).until(\n",
    "                EC.presence_of_element_located((By.CSS_SELECTOR, 'tbody.FichaCompleta'))\n",
    "            )\n",
    "\n",
    "            # Pega o texto dos dois elementos desejados\n",
    "            elemento_nome = WebDriverWait(driver, 10).until(\n",
    "                EC.presence_of_element_located((By.CSS_SELECTOR, 'tbody.FichaCompleta > tr:nth-child(4) > td:nth-child(1)'))\n",
    "            )\n",
    "            texto_nome = elemento_nome.text\n",
    "            print(texto_nome)\n",
    "\n",
    "            elemento_mae = WebDriverWait(driver, 10).until(\n",
    "                EC.presence_of_element_located((By.CSS_SELECTOR, 'tbody.FichaCompleta > tr:nth-child(6) > td:nth-child(1)'))\n",
    "            )\n",
    "            texto_mae = elemento_mae.text\n",
    "            print(texto_mae)\n",
    "\n",
    "            # Armazena os textos na lista de dados\n",
    "            dados.append({'nome': texto_nome, 'mae': texto_mae})\n",
    "\n",
    "            # Volta para a página original\n",
    "            driver.back()\n",
    "\n",
    "            # Espera até voltar ao iframe\n",
    "            WebDriverWait(driver, 10).until(\n",
    "                EC.presence_of_element_located((By.ID, 'f_main'))\n",
    "            )\n",
    "            driver.switch_to.frame(iframe)\n",
    "        except Exception as e:\n",
    "            print(f\"Erro ao processar o elemento {i}: {e}\")\n",
    "except Exception as e:\n",
    "    print(f\"Erro ao encontrar os elementos: {e}\")\n",
    "\n",
    "# Fecha o navegador\n",
    "driver.quit()\n",
    "\n",
    "# Cria um DataFrame com os dados\n",
    "df = pd.DataFrame(dados)\n",
    "\n",
    "# Salva o DataFrame em um arquivo Excel\n",
    "df.to_excel('dados.xlsx', index=False)\n",
    "\n",
    "print(\"Dados salvos em dados.xlsx\")"
   ]
  },
  {
   "cell_type": "code",
   "execution_count": 49,
   "metadata": {},
   "outputs": [],
   "source": [
    "WebDriverWait(driver, 10).until(\n",
    "    EC.presence_of_element_located((By.CSS_SELECTOR, 'tbody.FichaCompleta > tr:nth-child(4) > td:nth-child(1)'))\n",
    ")\n",
    "\n",
    "# Pega o texto dos dois elementos desejados\n",
    "elemento_nome = WebDriverWait(driver, 10).until(\n",
    "    EC.presence_of_element_located((By.CSS_SELECTOR, 'tbody.FichaCompleta > tr:nth-child(4) > td:nth-child(1)'))\n",
    ")\n",
    "texto_nome = elemento_nome.text\n",
    "\n",
    "# Pega o texto dos dois elementos desejados\n",
    "elemento_nome = WebDriverWait(driver, 10).until(\n",
    "    EC.presence_of_element_located((By.CSS_SELECTOR, 'tbody.FichaCompleta > tr:nth-child(6) > td:nth-child(1)'))\n",
    ")\n",
    "texto_mae = elemento_nome.text"
   ]
  },
  {
   "cell_type": "code",
   "execution_count": 50,
   "metadata": {},
   "outputs": [
    {
     "name": "stdout",
     "output_type": "stream",
     "text": [
      "IVONE GOMES PESSOA\n",
      "MARIA DE NAZARE GOMES PESSOA\n"
     ]
    }
   ],
   "source": [
    "print(texto_nome)\n",
    "print(texto_mae)"
   ]
  },
  {
   "cell_type": "code",
   "execution_count": 26,
   "metadata": {},
   "outputs": [
    {
     "ename": "StaleElementReferenceException",
     "evalue": "Message: stale element reference: stale element not found\n  (Session info: chrome=125.0.6422.113); For documentation on this error, please visit: https://www.selenium.dev/documentation/webdriver/troubleshooting/errors#stale-element-reference-exception\nStacktrace:\n\tGetHandleVerifier [0x00007FF681831F22+60322]\n\t(No symbol) [0x00007FF6817ACE99]\n\t(No symbol) [0x00007FF681667EBA]\n\t(No symbol) [0x00007FF68167A2CD]\n\t(No symbol) [0x00007FF68167AD5A]\n\t(No symbol) [0x00007FF68166ED69]\n\t(No symbol) [0x00007FF68166CAB6]\n\t(No symbol) [0x00007FF681670641]\n\t(No symbol) [0x00007FF6816706E0]\n\t(No symbol) [0x00007FF6816B14FB]\n\t(No symbol) [0x00007FF6816DC21A]\n\t(No symbol) [0x00007FF6816AADB6]\n\t(No symbol) [0x00007FF6816DC430]\n\t(No symbol) [0x00007FF6816FBC80]\n\t(No symbol) [0x00007FF6816DBFC3]\n\t(No symbol) [0x00007FF6816A9617]\n\t(No symbol) [0x00007FF6816AA211]\n\tGetHandleVerifier [0x00007FF681B4946D+3301613]\n\tGetHandleVerifier [0x00007FF681B93693+3605267]\n\tGetHandleVerifier [0x00007FF681B89410+3563664]\n\tGetHandleVerifier [0x00007FF6818E42F6+790390]\n\t(No symbol) [0x00007FF6817B74DF]\n\t(No symbol) [0x00007FF6817B33D4]\n\t(No symbol) [0x00007FF6817B3562]\n\t(No symbol) [0x00007FF6817A2F6F]\n\tBaseThreadInitThunk [0x00007FFCB052257D+29]\n\tRtlUserThreadStart [0x00007FFCB0D0AA48+40]\n",
     "output_type": "error",
     "traceback": [
      "\u001b[1;31m---------------------------------------------------------------------------\u001b[0m",
      "\u001b[1;31mStaleElementReferenceException\u001b[0m            Traceback (most recent call last)",
      "Cell \u001b[1;32mIn[26], line 2\u001b[0m\n\u001b[0;32m      1\u001b[0m \u001b[38;5;28;01mfor\u001b[39;00m elemento \u001b[38;5;129;01min\u001b[39;00m elementos:\n\u001b[1;32m----> 2\u001b[0m     \u001b[38;5;28mprint\u001b[39m(\u001b[43melemento\u001b[49m\u001b[38;5;241;43m.\u001b[39;49m\u001b[43mtext\u001b[49m)\n\u001b[0;32m      3\u001b[0m     elemento\u001b[38;5;241m.\u001b[39mclick()\n",
      "File \u001b[1;32mc:\\Users\\devda\\AppData\\Local\\Programs\\Python\\Python39\\lib\\site-packages\\selenium\\webdriver\\remote\\webelement.py:90\u001b[0m, in \u001b[0;36mWebElement.text\u001b[1;34m(self)\u001b[0m\n\u001b[0;32m     87\u001b[0m \u001b[38;5;129m@property\u001b[39m\n\u001b[0;32m     88\u001b[0m \u001b[38;5;28;01mdef\u001b[39;00m \u001b[38;5;21mtext\u001b[39m(\u001b[38;5;28mself\u001b[39m) \u001b[38;5;241m-\u001b[39m\u001b[38;5;241m>\u001b[39m \u001b[38;5;28mstr\u001b[39m:\n\u001b[0;32m     89\u001b[0m \u001b[38;5;250m    \u001b[39m\u001b[38;5;124;03m\"\"\"The text of the element.\"\"\"\u001b[39;00m\n\u001b[1;32m---> 90\u001b[0m     \u001b[38;5;28;01mreturn\u001b[39;00m \u001b[38;5;28;43mself\u001b[39;49m\u001b[38;5;241;43m.\u001b[39;49m\u001b[43m_execute\u001b[49m\u001b[43m(\u001b[49m\u001b[43mCommand\u001b[49m\u001b[38;5;241;43m.\u001b[39;49m\u001b[43mGET_ELEMENT_TEXT\u001b[49m\u001b[43m)\u001b[49m[\u001b[38;5;124m\"\u001b[39m\u001b[38;5;124mvalue\u001b[39m\u001b[38;5;124m\"\u001b[39m]\n",
      "File \u001b[1;32mc:\\Users\\devda\\AppData\\Local\\Programs\\Python\\Python39\\lib\\site-packages\\selenium\\webdriver\\remote\\webelement.py:395\u001b[0m, in \u001b[0;36mWebElement._execute\u001b[1;34m(self, command, params)\u001b[0m\n\u001b[0;32m    393\u001b[0m     params \u001b[38;5;241m=\u001b[39m {}\n\u001b[0;32m    394\u001b[0m params[\u001b[38;5;124m\"\u001b[39m\u001b[38;5;124mid\u001b[39m\u001b[38;5;124m\"\u001b[39m] \u001b[38;5;241m=\u001b[39m \u001b[38;5;28mself\u001b[39m\u001b[38;5;241m.\u001b[39m_id\n\u001b[1;32m--> 395\u001b[0m \u001b[38;5;28;01mreturn\u001b[39;00m \u001b[38;5;28;43mself\u001b[39;49m\u001b[38;5;241;43m.\u001b[39;49m\u001b[43m_parent\u001b[49m\u001b[38;5;241;43m.\u001b[39;49m\u001b[43mexecute\u001b[49m\u001b[43m(\u001b[49m\u001b[43mcommand\u001b[49m\u001b[43m,\u001b[49m\u001b[43m \u001b[49m\u001b[43mparams\u001b[49m\u001b[43m)\u001b[49m\n",
      "File \u001b[1;32mc:\\Users\\devda\\AppData\\Local\\Programs\\Python\\Python39\\lib\\site-packages\\selenium\\webdriver\\remote\\webdriver.py:347\u001b[0m, in \u001b[0;36mWebDriver.execute\u001b[1;34m(self, driver_command, params)\u001b[0m\n\u001b[0;32m    345\u001b[0m response \u001b[38;5;241m=\u001b[39m \u001b[38;5;28mself\u001b[39m\u001b[38;5;241m.\u001b[39mcommand_executor\u001b[38;5;241m.\u001b[39mexecute(driver_command, params)\n\u001b[0;32m    346\u001b[0m \u001b[38;5;28;01mif\u001b[39;00m response:\n\u001b[1;32m--> 347\u001b[0m     \u001b[38;5;28;43mself\u001b[39;49m\u001b[38;5;241;43m.\u001b[39;49m\u001b[43merror_handler\u001b[49m\u001b[38;5;241;43m.\u001b[39;49m\u001b[43mcheck_response\u001b[49m\u001b[43m(\u001b[49m\u001b[43mresponse\u001b[49m\u001b[43m)\u001b[49m\n\u001b[0;32m    348\u001b[0m     response[\u001b[38;5;124m\"\u001b[39m\u001b[38;5;124mvalue\u001b[39m\u001b[38;5;124m\"\u001b[39m] \u001b[38;5;241m=\u001b[39m \u001b[38;5;28mself\u001b[39m\u001b[38;5;241m.\u001b[39m_unwrap_value(response\u001b[38;5;241m.\u001b[39mget(\u001b[38;5;124m\"\u001b[39m\u001b[38;5;124mvalue\u001b[39m\u001b[38;5;124m\"\u001b[39m, \u001b[38;5;28;01mNone\u001b[39;00m))\n\u001b[0;32m    349\u001b[0m     \u001b[38;5;28;01mreturn\u001b[39;00m response\n",
      "File \u001b[1;32mc:\\Users\\devda\\AppData\\Local\\Programs\\Python\\Python39\\lib\\site-packages\\selenium\\webdriver\\remote\\errorhandler.py:229\u001b[0m, in \u001b[0;36mErrorHandler.check_response\u001b[1;34m(self, response)\u001b[0m\n\u001b[0;32m    227\u001b[0m         alert_text \u001b[38;5;241m=\u001b[39m value[\u001b[38;5;124m\"\u001b[39m\u001b[38;5;124malert\u001b[39m\u001b[38;5;124m\"\u001b[39m]\u001b[38;5;241m.\u001b[39mget(\u001b[38;5;124m\"\u001b[39m\u001b[38;5;124mtext\u001b[39m\u001b[38;5;124m\"\u001b[39m)\n\u001b[0;32m    228\u001b[0m     \u001b[38;5;28;01mraise\u001b[39;00m exception_class(message, screen, stacktrace, alert_text)  \u001b[38;5;66;03m# type: ignore[call-arg]  # mypy is not smart enough here\u001b[39;00m\n\u001b[1;32m--> 229\u001b[0m \u001b[38;5;28;01mraise\u001b[39;00m exception_class(message, screen, stacktrace)\n",
      "\u001b[1;31mStaleElementReferenceException\u001b[0m: Message: stale element reference: stale element not found\n  (Session info: chrome=125.0.6422.113); For documentation on this error, please visit: https://www.selenium.dev/documentation/webdriver/troubleshooting/errors#stale-element-reference-exception\nStacktrace:\n\tGetHandleVerifier [0x00007FF681831F22+60322]\n\t(No symbol) [0x00007FF6817ACE99]\n\t(No symbol) [0x00007FF681667EBA]\n\t(No symbol) [0x00007FF68167A2CD]\n\t(No symbol) [0x00007FF68167AD5A]\n\t(No symbol) [0x00007FF68166ED69]\n\t(No symbol) [0x00007FF68166CAB6]\n\t(No symbol) [0x00007FF681670641]\n\t(No symbol) [0x00007FF6816706E0]\n\t(No symbol) [0x00007FF6816B14FB]\n\t(No symbol) [0x00007FF6816DC21A]\n\t(No symbol) [0x00007FF6816AADB6]\n\t(No symbol) [0x00007FF6816DC430]\n\t(No symbol) [0x00007FF6816FBC80]\n\t(No symbol) [0x00007FF6816DBFC3]\n\t(No symbol) [0x00007FF6816A9617]\n\t(No symbol) [0x00007FF6816AA211]\n\tGetHandleVerifier [0x00007FF681B4946D+3301613]\n\tGetHandleVerifier [0x00007FF681B93693+3605267]\n\tGetHandleVerifier [0x00007FF681B89410+3563664]\n\tGetHandleVerifier [0x00007FF6818E42F6+790390]\n\t(No symbol) [0x00007FF6817B74DF]\n\t(No symbol) [0x00007FF6817B33D4]\n\t(No symbol) [0x00007FF6817B3562]\n\t(No symbol) [0x00007FF6817A2F6F]\n\tBaseThreadInitThunk [0x00007FFCB052257D+29]\n\tRtlUserThreadStart [0x00007FFCB0D0AA48+40]\n"
     ]
    }
   ],
   "source": [
    "for elemento in elementos:\n",
    "    print(elemento.text)\n",
    "    elemento.click()"
   ]
  },
  {
   "cell_type": "code",
   "execution_count": null,
   "metadata": {},
   "outputs": [
    {
     "data": {
      "text/plain": [
       "Point(x=930, y=699)"
      ]
     },
     "execution_count": 112,
     "metadata": {},
     "output_type": "execute_result"
    }
   ],
   "source": [
    "time.sleep(5)\n",
    "#da um tempo para pegar a posicao do cursor do mouse\n",
    "py.position()\n",
    "# pega a posicao do cusor do mouse\n",
    "# util para clicar em um determinado botao do computador\n",
    "# aliado ao comando py.click(\"\") onde dentro dos parenteses as coodenadas do cursor"
   ]
  }
 ],
 "metadata": {
  "kernelspec": {
   "display_name": "Python 3",
   "language": "python",
   "name": "python3"
  },
  "language_info": {
   "codemirror_mode": {
    "name": "ipython",
    "version": 3
   },
   "file_extension": ".py",
   "mimetype": "text/x-python",
   "name": "python",
   "nbconvert_exporter": "python",
   "pygments_lexer": "ipython3",
   "version": "3.9.13"
  }
 },
 "nbformat": 4,
 "nbformat_minor": 2
}
